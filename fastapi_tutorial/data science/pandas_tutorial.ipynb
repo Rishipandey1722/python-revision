{
 "cells": [
  {
   "cell_type": "code",
   "execution_count": 2,
   "id": "139e885f",
   "metadata": {},
   "outputs": [
    {
     "name": "stdout",
     "output_type": "stream",
     "text": [
      "a    10\n",
      "b    20\n",
      "c    30\n",
      "dtype: int64\n",
      "20\n"
     ]
    }
   ],
   "source": [
    "import pandas as pd\n",
    "\n",
    "series = pd.Series([10, 20 , 30] , index=[\"a\" , \"b\" , \"c\"])\n",
    "print(series)\n",
    "print(series[\"b\"])\n"
   ]
  },
  {
   "cell_type": "code",
   "execution_count": 3,
   "id": "ad525359",
   "metadata": {},
   "outputs": [
    {
     "name": "stdout",
     "output_type": "stream",
     "text": [
      "\n",
      "LA\n"
     ]
    }
   ],
   "source": [
    "data = {\n",
    "    \"Name\": [\"Alice\", \"Bob\", \"Charlie\"],\n",
    "    \"Age\": [25, 30, 35],\n",
    "    \"City\": [\"NY\", \"LA\", \"Chicago\"]\n",
    "}\n",
    "\n",
    "df = pd.DataFrame(data)\n",
    "# print(df)\n",
    "# print(df[\"Name\"])\n",
    "# print(df.iloc[2])\n",
    "print()\n",
    "print(df.loc[1, \"City\"])"
   ]
  },
  {
   "cell_type": "markdown",
   "id": "ca31c12c",
   "metadata": {},
   "source": [
    "Stage 3: Data Input & Output\n",
    "\n",
    "CSV\n",
    "Excel\n",
    "SQL\n",
    "JSON"
   ]
  },
  {
   "cell_type": "code",
   "execution_count": null,
   "id": "df9d613e",
   "metadata": {},
   "outputs": [
    {
     "data": {
      "text/html": [
       "<div>\n",
       "<style scoped>\n",
       "    .dataframe tbody tr th:only-of-type {\n",
       "        vertical-align: middle;\n",
       "    }\n",
       "\n",
       "    .dataframe tbody tr th {\n",
       "        vertical-align: top;\n",
       "    }\n",
       "\n",
       "    .dataframe thead th {\n",
       "        text-align: right;\n",
       "    }\n",
       "</style>\n",
       "<table border=\"1\" class=\"dataframe\">\n",
       "  <thead>\n",
       "    <tr style=\"text-align: right;\">\n",
       "      <th></th>\n",
       "      <th>sepal_length</th>\n",
       "      <th>sepal_width</th>\n",
       "      <th>petal_length</th>\n",
       "      <th>petal_width</th>\n",
       "      <th>species</th>\n",
       "    </tr>\n",
       "  </thead>\n",
       "  <tbody>\n",
       "    <tr>\n",
       "      <th>0</th>\n",
       "      <td>5.1</td>\n",
       "      <td>3.5</td>\n",
       "      <td>1.4</td>\n",
       "      <td>0.2</td>\n",
       "      <td>setosa</td>\n",
       "    </tr>\n",
       "    <tr>\n",
       "      <th>1</th>\n",
       "      <td>4.9</td>\n",
       "      <td>3.0</td>\n",
       "      <td>1.4</td>\n",
       "      <td>0.2</td>\n",
       "      <td>setosa</td>\n",
       "    </tr>\n",
       "    <tr>\n",
       "      <th>2</th>\n",
       "      <td>4.7</td>\n",
       "      <td>3.2</td>\n",
       "      <td>1.3</td>\n",
       "      <td>0.2</td>\n",
       "      <td>setosa</td>\n",
       "    </tr>\n",
       "    <tr>\n",
       "      <th>3</th>\n",
       "      <td>4.6</td>\n",
       "      <td>3.1</td>\n",
       "      <td>1.5</td>\n",
       "      <td>0.2</td>\n",
       "      <td>setosa</td>\n",
       "    </tr>\n",
       "    <tr>\n",
       "      <th>4</th>\n",
       "      <td>5.0</td>\n",
       "      <td>3.6</td>\n",
       "      <td>1.4</td>\n",
       "      <td>0.2</td>\n",
       "      <td>setosa</td>\n",
       "    </tr>\n",
       "  </tbody>\n",
       "</table>\n",
       "</div>"
      ],
      "text/plain": [
       "   sepal_length  sepal_width  petal_length  petal_width species\n",
       "0           5.1          3.5           1.4          0.2  setosa\n",
       "1           4.9          3.0           1.4          0.2  setosa\n",
       "2           4.7          3.2           1.3          0.2  setosa\n",
       "3           4.6          3.1           1.5          0.2  setosa\n",
       "4           5.0          3.6           1.4          0.2  setosa"
      ]
     },
     "execution_count": 5,
     "metadata": {},
     "output_type": "execute_result"
    }
   ],
   "source": [
    "#csv \n",
    "\n",
    "df = pd.read_csv(\"iris.csv\")\n",
    "# print(df)\n",
    "df.head() #return top 5 rows"
   ]
  },
  {
   "cell_type": "code",
   "execution_count": null,
   "id": "ad122369",
   "metadata": {},
   "outputs": [],
   "source": [
    "#common parameters in read_csv\n",
    "df = pd.read_csv(\n",
    "    \"iris.csv\" ,\n",
    "    sep = \",\", # delimeter\n",
    "    header = 0,\n",
    "    index_col=0,\n",
    "    nrows = 10\n",
    "\n",
    ")\n",
    "\n",
    "#writing to csv\n",
    "df.to_csv(\"output.csv\" , index = False)\n",
    "\n",
    "#other formats like excel , json , sql\n",
    "df1 = pd.read_excel(\"sheet1.xlsx\")\n",
    "df1.to_excel(\"output.xlsx\")\n",
    "\n",
    "\n",
    "df2 = pd.read_json(\"data.json\")\n",
    "df2.to_json(\"output.json\")"
   ]
  },
  {
   "cell_type": "code",
   "execution_count": 10,
   "id": "1b1f2e51",
   "metadata": {},
   "outputs": [
    {
     "name": "stdout",
     "output_type": "stream",
     "text": [
      "   alcohol  malic_acid   ash  alcalinity_of_ash  magnesium  total_phenols  \\\n",
      "0    14.23        1.71  2.43               15.6        127           2.80   \n",
      "1    13.20        1.78  2.14               11.2        100           2.65   \n",
      "2    13.16        2.36  2.67               18.6        101           2.80   \n",
      "3    14.37        1.95  2.50               16.8        113           3.85   \n",
      "\n",
      "   flavanoids  nonflavanoid_phenols  proanthocyanins  color_intensity   hue  \\\n",
      "0        3.06                  0.28             2.29             5.64  1.04   \n",
      "1        2.76                  0.26             1.28             4.38  1.05   \n",
      "2        3.24                  0.30             2.81             5.68  1.03   \n",
      "3        3.49                  0.24             2.18             7.80  0.86   \n",
      "\n",
      "   od280/od315_of_diluted_wines  proline  target  \n",
      "0                          3.92     1065       0  \n",
      "1                          3.40     1050       0  \n",
      "2                          3.17     1185       0  \n",
      "3                          3.45     1480       0  \n",
      "   alcohol  malic_acid   ash  alcalinity_of_ash  magnesium  total_phenols  \\\n",
      "4    13.24        2.59  2.87               21.0        118            2.8   \n",
      "\n",
      "   flavanoids  nonflavanoid_phenols  proanthocyanins  color_intensity   hue  \\\n",
      "4        2.69                  0.39             1.82             4.32  1.04   \n",
      "\n",
      "   od280/od315_of_diluted_wines  proline  target  \n",
      "4                          2.93      735       0  \n"
     ]
    }
   ],
   "source": [
    "#HANDLING BIG LARGE FILES AND CHUNKING\n",
    "\n",
    "chunks = pd.read_csv(\"wine.csv\" , chunksize=4)\n",
    "for chunk in chunks:\n",
    "    print(chunk)"
   ]
  }
 ],
 "metadata": {
  "kernelspec": {
   "display_name": "Python 3",
   "language": "python",
   "name": "python3"
  },
  "language_info": {
   "codemirror_mode": {
    "name": "ipython",
    "version": 3
   },
   "file_extension": ".py",
   "mimetype": "text/x-python",
   "name": "python",
   "nbconvert_exporter": "python",
   "pygments_lexer": "ipython3",
   "version": "3.11.5"
  }
 },
 "nbformat": 4,
 "nbformat_minor": 5
}
